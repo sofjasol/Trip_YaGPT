{
  "cells": [
    {
      "cell_type": "code",
      "execution_count": null,
      "id": "a8e3d88b-592c-4959-90b1-f2cc945d91ef",
      "metadata": {
        "execution": {
          "iopub.execute_input": "2024-12-26T19:12:35.655850Z",
          "iopub.status.busy": "2024-12-26T19:12:35.655014Z",
          "iopub.status.idle": "2024-12-26T19:12:44.473048Z",
          "shell.execute_reply": "2024-12-26T19:12:44.472044Z",
          "shell.execute_reply.started": "2024-12-26T19:12:35.655804Z"
        },
        "tags": [],
        "id": "a8e3d88b-592c-4959-90b1-f2cc945d91ef",
        "outputId": "184b6ee1-b283-4b6e-c73a-a4479409f298"
      },
      "outputs": [
        {
          "name": "stdout",
          "output_type": "stream",
          "text": [
            "\u001b[33mWARNING: Skipping jwt as it is not installed.\u001b[0m\u001b[33m\n",
            "\u001b[0mDefaulting to user installation because normal site-packages is not writeable\n",
            "Requirement already satisfied: PyJWT in /home/jupyter/.local/lib/python3.10/site-packages (2.10.1)\n",
            "\n",
            "\u001b[1m[\u001b[0m\u001b[34;49mnotice\u001b[0m\u001b[1;39;49m]\u001b[0m\u001b[39;49m A new release of pip is available: \u001b[0m\u001b[31;49m23.0.1\u001b[0m\u001b[39;49m -> \u001b[0m\u001b[32;49m24.3.1\u001b[0m\n",
            "\u001b[1m[\u001b[0m\u001b[34;49mnotice\u001b[0m\u001b[1;39;49m]\u001b[0m\u001b[39;49m To update, run: \u001b[0m\u001b[32;49mpython3 -m pip install --upgrade pip\u001b[0m\n",
            "Defaulting to user installation because normal site-packages is not writeable\n",
            "Requirement already satisfied: yandex-chain in /home/jupyter/.local/lib/python3.10/site-packages (0.0.10)\n",
            "Requirement already satisfied: requests in /usr/local/lib/python3.10/dist-packages (from yandex-chain) (2.27.1)\n",
            "Requirement already satisfied: langchain==0.2.1 in /home/jupyter/.local/lib/python3.10/site-packages (from yandex-chain) (0.2.1)\n",
            "Requirement already satisfied: tenacity in /usr/local/lib/python3.10/dist-packages (from yandex-chain) (8.2.2)\n",
            "Requirement already satisfied: PyYAML>=5.3 in /usr/local/lib/python3.10/dist-packages (from langchain==0.2.1->yandex-chain) (6.0.1)\n",
            "Requirement already satisfied: SQLAlchemy<3,>=1.4 in /usr/local/lib/python3.10/dist-packages (from langchain==0.2.1->yandex-chain) (2.0.19)\n",
            "Requirement already satisfied: aiohttp<4.0.0,>=3.8.3 in /usr/local/lib/python3.10/dist-packages (from langchain==0.2.1->yandex-chain) (3.8.5)\n",
            "Requirement already satisfied: async-timeout<5.0.0,>=4.0.0 in /usr/local/lib/python3.10/dist-packages (from langchain==0.2.1->yandex-chain) (4.0.2)\n",
            "Requirement already satisfied: langchain-core<0.3.0,>=0.2.0 in /home/jupyter/.local/lib/python3.10/site-packages (from langchain==0.2.1->yandex-chain) (0.2.43)\n",
            "Requirement already satisfied: langchain-text-splitters<0.3.0,>=0.2.0 in /home/jupyter/.local/lib/python3.10/site-packages (from langchain==0.2.1->yandex-chain) (0.2.4)\n",
            "Requirement already satisfied: langsmith<0.2.0,>=0.1.17 in /home/jupyter/.local/lib/python3.10/site-packages (from langchain==0.2.1->yandex-chain) (0.1.147)\n",
            "Requirement already satisfied: numpy<2,>=1 in /usr/local/lib/python3.10/dist-packages (from langchain==0.2.1->yandex-chain) (1.22.4)\n",
            "Requirement already satisfied: pydantic<3,>=1 in /usr/local/lib/python3.10/dist-packages (from langchain==0.2.1->yandex-chain) (1.10.12)\n",
            "Requirement already satisfied: urllib3<1.27,>=1.21.1 in /usr/local/lib/python3.10/dist-packages (from requests->yandex-chain) (1.26.16)\n",
            "Requirement already satisfied: certifi>=2017.4.17 in /usr/local/lib/python3.10/dist-packages (from requests->yandex-chain) (2023.7.22)\n",
            "Requirement already satisfied: charset-normalizer~=2.0.0 in /usr/local/lib/python3.10/dist-packages (from requests->yandex-chain) (2.0.12)\n",
            "Requirement already satisfied: idna<4,>=2.5 in /usr/local/lib/python3.10/dist-packages (from requests->yandex-chain) (3.4)\n",
            "Requirement already satisfied: attrs>=17.3.0 in /usr/local/lib/python3.10/dist-packages (from aiohttp<4.0.0,>=3.8.3->langchain==0.2.1->yandex-chain) (23.1.0)\n",
            "Requirement already satisfied: multidict<7.0,>=4.5 in /usr/local/lib/python3.10/dist-packages (from aiohttp<4.0.0,>=3.8.3->langchain==0.2.1->yandex-chain) (6.0.4)\n",
            "Requirement already satisfied: yarl<2.0,>=1.0 in /usr/local/lib/python3.10/dist-packages (from aiohttp<4.0.0,>=3.8.3->langchain==0.2.1->yandex-chain) (1.9.2)\n",
            "Requirement already satisfied: frozenlist>=1.1.1 in /usr/local/lib/python3.10/dist-packages (from aiohttp<4.0.0,>=3.8.3->langchain==0.2.1->yandex-chain) (1.4.0)\n",
            "Requirement already satisfied: aiosignal>=1.1.2 in /usr/local/lib/python3.10/dist-packages (from aiohttp<4.0.0,>=3.8.3->langchain==0.2.1->yandex-chain) (1.3.1)\n",
            "Requirement already satisfied: jsonpatch<2.0,>=1.33 in /home/jupyter/.local/lib/python3.10/site-packages (from langchain-core<0.3.0,>=0.2.0->langchain==0.2.1->yandex-chain) (1.33)\n",
            "Requirement already satisfied: packaging<25,>=23.2 in /home/jupyter/.local/lib/python3.10/site-packages (from langchain-core<0.3.0,>=0.2.0->langchain==0.2.1->yandex-chain) (24.2)\n",
            "Requirement already satisfied: typing-extensions>=4.7 in /usr/local/lib/python3.10/dist-packages (from langchain-core<0.3.0,>=0.2.0->langchain==0.2.1->yandex-chain) (4.7.1)\n",
            "Requirement already satisfied: httpx<1,>=0.23.0 in /home/jupyter/.local/lib/python3.10/site-packages (from langsmith<0.2.0,>=0.1.17->langchain==0.2.1->yandex-chain) (0.28.1)\n",
            "Requirement already satisfied: orjson<4.0.0,>=3.9.14 in /home/jupyter/.local/lib/python3.10/site-packages (from langsmith<0.2.0,>=0.1.17->langchain==0.2.1->yandex-chain) (3.10.12)\n",
            "Requirement already satisfied: requests-toolbelt<2.0.0,>=1.0.0 in /home/jupyter/.local/lib/python3.10/site-packages (from langsmith<0.2.0,>=0.1.17->langchain==0.2.1->yandex-chain) (1.0.0)\n",
            "Requirement already satisfied: greenlet!=0.4.17 in /usr/local/lib/python3.10/dist-packages (from SQLAlchemy<3,>=1.4->langchain==0.2.1->yandex-chain) (2.0.2)\n",
            "Requirement already satisfied: anyio in /usr/local/lib/python3.10/dist-packages (from httpx<1,>=0.23.0->langsmith<0.2.0,>=0.1.17->langchain==0.2.1->yandex-chain) (3.7.1)\n",
            "Requirement already satisfied: httpcore==1.* in /home/jupyter/.local/lib/python3.10/site-packages (from httpx<1,>=0.23.0->langsmith<0.2.0,>=0.1.17->langchain==0.2.1->yandex-chain) (1.0.7)\n",
            "Requirement already satisfied: h11<0.15,>=0.13 in /home/jupyter/.local/lib/python3.10/site-packages (from httpcore==1.*->httpx<1,>=0.23.0->langsmith<0.2.0,>=0.1.17->langchain==0.2.1->yandex-chain) (0.14.0)\n",
            "Requirement already satisfied: jsonpointer>=1.9 in /home/jupyter/.local/lib/python3.10/site-packages (from jsonpatch<2.0,>=1.33->langchain-core<0.3.0,>=0.2.0->langchain==0.2.1->yandex-chain) (3.0.0)\n",
            "Requirement already satisfied: sniffio>=1.1 in /usr/local/lib/python3.10/dist-packages (from anyio->httpx<1,>=0.23.0->langsmith<0.2.0,>=0.1.17->langchain==0.2.1->yandex-chain) (1.3.0)\n",
            "Requirement already satisfied: exceptiongroup in /usr/local/lib/python3.10/dist-packages (from anyio->httpx<1,>=0.23.0->langsmith<0.2.0,>=0.1.17->langchain==0.2.1->yandex-chain) (1.1.2)\n",
            "\n",
            "\u001b[1m[\u001b[0m\u001b[34;49mnotice\u001b[0m\u001b[1;39;49m]\u001b[0m\u001b[39;49m A new release of pip is available: \u001b[0m\u001b[31;49m23.0.1\u001b[0m\u001b[39;49m -> \u001b[0m\u001b[32;49m24.3.1\u001b[0m\n",
            "\u001b[1m[\u001b[0m\u001b[34;49mnotice\u001b[0m\u001b[1;39;49m]\u001b[0m\u001b[39;49m To update, run: \u001b[0m\u001b[32;49mpython3 -m pip install --upgrade pip\u001b[0m\n"
          ]
        }
      ],
      "source": [
        "##%%capture\n",
        "%pip uninstall jwt\n",
        "%pip install PyJWT -U\n",
        "%pip install yandex-chain"
      ]
    },
    {
      "cell_type": "code",
      "execution_count": null,
      "id": "c86d7e42-faa8-4429-bae0-2cd4b71160c8",
      "metadata": {
        "execution": {
          "iopub.execute_input": "2024-12-26T19:12:52.215740Z",
          "iopub.status.busy": "2024-12-26T19:12:52.214426Z",
          "iopub.status.idle": "2024-12-26T19:12:52.632716Z",
          "shell.execute_reply": "2024-12-26T19:12:52.631939Z",
          "shell.execute_reply.started": "2024-12-26T19:12:52.215698Z"
        },
        "tags": [],
        "id": "c86d7e42-faa8-4429-bae0-2cd4b71160c8"
      },
      "outputs": [],
      "source": [
        "%%capture\n",
        "import requests\n",
        "import json\n",
        "import time\n",
        "import jwt\n",
        "import os"
      ]
    },
    {
      "cell_type": "code",
      "execution_count": null,
      "id": "977abfdc-ab38-40d0-bbba-3086b0436c5d",
      "metadata": {
        "execution": {
          "iopub.execute_input": "2024-12-26T19:12:56.055946Z",
          "iopub.status.busy": "2024-12-26T19:12:56.054567Z",
          "iopub.status.idle": "2024-12-26T19:12:56.072865Z",
          "shell.execute_reply": "2024-12-26T19:12:56.072091Z",
          "shell.execute_reply.started": "2024-12-26T19:12:56.055902Z"
        },
        "tags": [],
        "id": "977abfdc-ab38-40d0-bbba-3086b0436c5d"
      },
      "outputs": [],
      "source": [
        "service_account_json = json.loads(os.environ[\"service_account_json\"])\n",
        "service_account_id = service_account_json[\"service_account_id\"]\n",
        "key_id = service_account_json[\"id\"]\n",
        "private_key = service_account_json[\"private_key\"]"
      ]
    },
    {
      "cell_type": "code",
      "execution_count": null,
      "id": "d0248a50-d55d-4d07-b5fb-62f2410b3738",
      "metadata": {
        "execution": {
          "iopub.execute_input": "2024-12-26T19:13:01.362823Z",
          "iopub.status.busy": "2024-12-26T19:13:01.361974Z",
          "iopub.status.idle": "2024-12-26T19:13:01.720539Z",
          "shell.execute_reply": "2024-12-26T19:13:01.719589Z",
          "shell.execute_reply.started": "2024-12-26T19:13:01.362780Z"
        },
        "tags": [],
        "id": "d0248a50-d55d-4d07-b5fb-62f2410b3738"
      },
      "outputs": [],
      "source": [
        "now = int(time.time())\n",
        "payload = {\n",
        "        'aud': 'https://iam.api.cloud.yandex.net/iam/v1/tokens',\n",
        "        'iss': service_account_id,\n",
        "        'iat': now,\n",
        "        'exp': now + 360}\n",
        "\n",
        "encoded_token = jwt.encode(\n",
        "    payload,\n",
        "    private_key,\n",
        "    algorithm='PS256',\n",
        "    headers={'kid': key_id})\n",
        "\n",
        "url = 'https://iam.api.cloud.yandex.net/iam/v1/tokens'\n",
        "x = requests.post(url,  headers={'Content-Type': 'application/json'}, json = {'jwt': encoded_token}).json()\n",
        "token = x['iamToken']"
      ]
    },
    {
      "cell_type": "markdown",
      "source": [
        "Проверяем, все ли работает и все ли загрузилось."
      ],
      "metadata": {
        "id": "c2tWnJQYpJnT"
      },
      "id": "c2tWnJQYpJnT"
    },
    {
      "cell_type": "code",
      "execution_count": null,
      "id": "6e3fd179-b09e-4781-9834-7d077de4d04e",
      "metadata": {
        "execution": {
          "iopub.execute_input": "2024-12-26T19:13:12.340723Z",
          "iopub.status.busy": "2024-12-26T19:13:12.339458Z",
          "iopub.status.idle": "2024-12-26T19:13:14.464320Z",
          "shell.execute_reply": "2024-12-26T19:13:14.463412Z",
          "shell.execute_reply.started": "2024-12-26T19:13:12.340669Z"
        },
        "tags": [],
        "id": "6e3fd179-b09e-4781-9834-7d077de4d04e",
        "outputId": "36f7e184-bbc7-4e2b-992c-053318c27dc1"
      },
      "outputs": [
        {
          "name": "stdout",
          "output_type": "stream",
          "text": [
            "gpt://b1gnor6f8dtj2useoeoc/yandexgpt/latest\n"
          ]
        },
        {
          "name": "stderr",
          "output_type": "stream",
          "text": [
            "/tmp/ipykernel_2135/1426869443.py:5: LangChainDeprecationWarning: The method `BaseLLM.__call__` was deprecated in langchain-core 0.1.7 and will be removed in 1.0. Use invoke instead.\n",
            "  print(LLM(\"Buenos dias. Que tal?\"))\n"
          ]
        },
        {
          "name": "stdout",
          "output_type": "stream",
          "text": [
            "Buenos días. ¡Todo bien, gracias! ¿Y usted? (или просто «¡Bien!»).\n"
          ]
        }
      ],
      "source": [
        "from yandex_chain import YandexLLM, YandexGPTModel\n",
        "\n",
        "LLM = YandexLLM(model=YandexGPTModel.Pro, folder_id=folder_id, iam_token=token)\n",
        "print(LLM._modelUri)\n",
        "print(LLM(\"Buenos dias. Que tal?\"))"
      ]
    },
    {
      "cell_type": "markdown",
      "source": [
        "Инициализируем модель."
      ],
      "metadata": {
        "id": "v_-oX3ccpb3I"
      },
      "id": "v_-oX3ccpb3I"
    },
    {
      "cell_type": "code",
      "execution_count": null,
      "id": "ebd50eae-a916-484d-8ebc-d270dc3f5127",
      "metadata": {
        "execution": {
          "iopub.execute_input": "2024-12-26T19:13:58.528751Z",
          "iopub.status.busy": "2024-12-26T19:13:58.527425Z",
          "iopub.status.idle": "2024-12-26T19:13:58.557051Z",
          "shell.execute_reply": "2024-12-26T19:13:58.556213Z",
          "shell.execute_reply.started": "2024-12-26T19:13:58.528706Z"
        },
        "tags": [],
        "id": "ebd50eae-a916-484d-8ebc-d270dc3f5127"
      },
      "outputs": [],
      "source": [
        "LLM = YandexLLM(model=YandexGPTModel.Pro, folder_id=folder_id, iam_token=token, temperature=0.0)"
      ]
    },
    {
      "cell_type": "markdown",
      "source": [
        "Посмотрим, как модель справится с такой задачей, как планирование путешествия. Будем уточнять подводку с каждым шагом.\n",
        "\n",
        "То, что мы бы хотели увидеть, это:\n",
        "- название маршрута/путешествия\n",
        "- вид транспорта (2 из 3)\n",
        "- маршрут при выбранном виде транспорта\n",
        "- время в пути\n",
        "- рекомендованные остановки и интересные места в них"
      ],
      "metadata": {
        "id": "erov28VKpmdL"
      },
      "id": "erov28VKpmdL"
    },
    {
      "cell_type": "markdown",
      "source": [
        "# zero-shot"
      ],
      "metadata": {
        "id": "BsL0uD0Nvdvp"
      },
      "id": "BsL0uD0Nvdvp"
    },
    {
      "cell_type": "code",
      "execution_count": null,
      "id": "1cf5724e-13d4-4397-931a-cd31a5202c8f",
      "metadata": {
        "execution": {
          "iopub.execute_input": "2024-12-26T19:14:01.258462Z",
          "iopub.status.busy": "2024-12-26T19:14:01.257130Z",
          "iopub.status.idle": "2024-12-26T19:14:01.276635Z",
          "shell.execute_reply": "2024-12-26T19:14:01.275675Z",
          "shell.execute_reply.started": "2024-12-26T19:14:01.258413Z"
        },
        "id": "1cf5724e-13d4-4397-931a-cd31a5202c8f"
      },
      "outputs": [],
      "source": [
        "def make_request(prompt, text):\n",
        "    return f\"{prompt}\\n\\nМАРШРУТ: {text}\"\n",
        "\n",
        "first_prompt = '''Ты помощник по планированию путешествий. Твоя задача -- спланировать путешествие из точки A в точку B.\n",
        "\n",
        "Маршрут будет написан после слова МАРШРУТ. Ты должна написать план для путешествия для данного маршрута после слова ПЛАН.'''"
      ]
    },
    {
      "cell_type": "code",
      "execution_count": null,
      "id": "d2426bd7-cb04-4b3a-8127-4c607491b526",
      "metadata": {
        "execution": {
          "iopub.execute_input": "2024-12-26T19:15:13.329325Z",
          "iopub.status.busy": "2024-12-26T19:15:13.328271Z",
          "iopub.status.idle": "2024-12-26T19:15:19.246173Z",
          "shell.execute_reply": "2024-12-26T19:15:19.245249Z",
          "shell.execute_reply.started": "2024-12-26T19:15:13.329275Z"
        },
        "id": "d2426bd7-cb04-4b3a-8127-4c607491b526",
        "outputId": "96027a10-9834-47c7-942c-48448fb60537"
      },
      "outputs": [
        {
          "name": "stdout",
          "output_type": "stream",
          "text": [
            "**Маршрут:** Москва — Санкт-Петербург.\n",
            "\n",
            "**План:**\n",
            "1. Выберите способ передвижения: поезд, автобус, автомобиль или самолёт. Каждый из этих вариантов имеет свои преимущества и недостатки, поэтому выбор зависит от ваших предпочтений и бюджета.\n",
            "2. Если вы выбрали поезд, то заранее купите билеты на сайте РЖД или в кассах вокзала. Это позволит вам выбрать удобное время отправления и место в вагоне.\n",
            "3. Если вы путешествуете на автобусе, также заранее приобретите билеты на сайтах компаний-перевозчиков или на автовокзале. Проверьте расписание рейсов и выберите наиболее подходящий вариант.\n",
            "4. При поездке на автомобиле спланируйте маршрут с учётом пробок и загруженности дорог. Заправьте полный бак бензина и проверьте техническое состояние автомобиля перед отправлением.\n",
            "5. Если вы летите на самолёте, забронируйте билеты на рейс одной из авиакомпаний, выполняющих рейсы между Москвой и Санкт-Петербургом. Учтите время на регистрацию и прохождение досмотра в аэропорту.\n",
            "6. По прибытии в пункт назначения ориентируйтесь на транспортную доступность и расположение вашего места проживания. В Санкт-Петербурге вы можете воспользоваться метро, автобусами или такси для перемещения по городу.\n",
            "7. Заранее изучите достопримечательности и интересные места Санкт-Петербурга, чтобы составить план посещения во время пребывания в городе.\n"
          ]
        }
      ],
      "source": [
        "text = \"МОСКВА - САНКТ-ПЕТЕРБУРГ\"\n",
        "\n",
        "request = make_request(first_prompt, text)\n",
        "print(LLM(request))"
      ]
    },
    {
      "cell_type": "markdown",
      "source": [
        "План, сгенерированный моделью, пока что сильно отличается от того, что мы бы хотели увидеть (но мы еще и не сообщили модели этого). Ответ модели весьма общий и неспецифичный. Попробуем изменить подводку."
      ],
      "metadata": {
        "id": "qeHAy1SUqnJA"
      },
      "id": "qeHAy1SUqnJA"
    },
    {
      "cell_type": "code",
      "execution_count": null,
      "id": "1c7ce6e5-2d2f-4925-8d7f-6951db449ab3",
      "metadata": {
        "execution": {
          "iopub.execute_input": "2024-12-26T19:20:10.410450Z",
          "iopub.status.busy": "2024-12-26T19:20:10.409099Z",
          "iopub.status.idle": "2024-12-26T19:20:14.690674Z",
          "shell.execute_reply": "2024-12-26T19:20:14.689848Z",
          "shell.execute_reply.started": "2024-12-26T19:20:10.410400Z"
        },
        "id": "1c7ce6e5-2d2f-4925-8d7f-6951db449ab3",
        "outputId": "df524978-00c1-4611-e239-bcb2c8d9789c"
      },
      "outputs": [
        {
          "name": "stdout",
          "output_type": "stream",
          "text": [
            "**Маршрут:** Москва — Санкт-Петербург.\n",
            "\n",
            "**Виды транспорта:** поезд или автомобиль.\n",
            "\n",
            "**Время в пути:**\n",
            "* на поезде: от 3,5 до 10 часов (в зависимости от типа поезда и времени отправления);\n",
            "* на автомобиле: около 6–8 часов (без учёта пробок и остановок).\n",
            "\n",
            "**План путешествия:**\n",
            "1. Выберите способ передвижения: поезд или автомобиль, учитывая время отправления, расписание и бюджет.\n",
            "2. Если вы путешествуете на поезде, заранее купите билеты, чтобы выбрать удобные места и вагон.\n",
            "3. Если вы едете на машине, рассчитайте маршрут с учётом пробок и возможных остановок. Проверьте состояние автомобиля и наличие необходимых документов.\n",
            "4. Возьмите с собой всё необходимое: документы, деньги, еду, напитки, одежду по погоде.\n",
            "5. По прибытии в Санкт-Петербург можно сразу отправиться на прогулку по городу или отдохнуть после дороги.\n"
          ]
        }
      ],
      "source": [
        "second_prompt = '''Ты помощник по планированию путешествий. Твоя задача -- спланировать путешествие из точки A в точку B, выбрав оптимальный маршурут и расчитав ориентировочное время в пути, так же можешь добавить в план что-то свое.\n",
        "\n",
        "Маршрут будет написан после слова МАРШРУТ. Ты должна написать план для путешествия для данного маршрута после слова ПЛАН.'''\n",
        "text = \"МОСКВА - САНКТ-ПЕТЕРБУРГ\"\n",
        "\n",
        "request = make_request(second_prompt, text)\n",
        "print(LLM(request))"
      ]
    },
    {
      "cell_type": "markdown",
      "source": [
        "Начинаем приближаться к тому, чего хотим. Продолжаем редактировать подводку."
      ],
      "metadata": {
        "id": "99tux6Z8rMio"
      },
      "id": "99tux6Z8rMio"
    },
    {
      "cell_type": "code",
      "execution_count": null,
      "id": "2172ff85-0043-4064-943e-26d6c7218583",
      "metadata": {
        "execution": {
          "iopub.execute_input": "2024-12-26T19:24:32.066374Z",
          "iopub.status.busy": "2024-12-26T19:24:32.065109Z",
          "iopub.status.idle": "2024-12-26T19:24:37.372427Z",
          "shell.execute_reply": "2024-12-26T19:24:37.371549Z",
          "shell.execute_reply.started": "2024-12-26T19:24:32.066328Z"
        },
        "id": "2172ff85-0043-4064-943e-26d6c7218583",
        "outputId": "2ef1ad8e-ce10-47a3-8ea0-287e902678fc"
      },
      "outputs": [
        {
          "name": "stdout",
          "output_type": "stream",
          "text": [
            "**Маршрут:** Москва — Санкт-Петербург.\n",
            "\n",
            "**Оптимальный способ передвижения:** поезд или автомобиль (в зависимости от предпочтений и бюджета).\n",
            "\n",
            "1. **Поезд.**\n",
            "\n",
            "* **Время в пути:** 3,5–4 часа на скоростном поезде «Сапсан».\n",
            "* **Остановки:** по желанию можно сделать остановку в Твери или других городах по пути следования поезда.\n",
            "\n",
            "2. **Автомобиль.**\n",
            "\n",
            "* **Расстояние:** около 630 км.\n",
            "* **Время в пути:** примерно 7–8 часов без остановок.\n",
            "* **Возможные остановки:** Новгород Великий, Вышний Волочёк, Тверь.\n",
            "\n",
            "**План путешествия:**\n",
            "\n",
            "1. Выберите способ передвижения: поезд или автомобиль.\n",
            "2. Если вы выбрали поезд, то купите билеты заранее на сайте РЖД или в кассах вокзала.\n",
            "3. Если вы путешествуете на автомобиле, то проверьте техническое состояние машины и наличие всех необходимых документов.\n",
            "4. При путешествии на автомобиле спланируйте маршрут с учётом возможных остановок для отдыха и еды.\n",
            "5. В любом случае возьмите с собой необходимые вещи: документы, деньги, телефон, еду и напитки.\n",
            "6. Наслаждайтесь путешествием!\n"
          ]
        }
      ],
      "source": [
        "second_prompt_v2 = '''Ты помощник по планированию путешествий. Твоя задача -- спланировать путешествие из точки A в точку B, выбрав оптимальный маршурут и расчитав ориентировочное время в пути, так же можешь добавить в план что-то свое.\n",
        "Путешествие планируется на самолете, поезде или автомобиле. Используй сторонние сервисы для более конкретного подсчета времени в пути. Так же добавь возможные остановки.\n",
        "\n",
        "Маршрут будет написан после слова МАРШРУТ. Ты должна написать план для путешествия для данного маршрута после слова ПЛАН.'''\n",
        "text = \"МОСКВА - САНКТ-ПЕТЕРБУРГ\"\n",
        "\n",
        "request = make_request(second_prompt_v2, text)\n",
        "print(LLM(request))"
      ]
    },
    {
      "cell_type": "markdown",
      "source": [
        "Добавили возможные остановки. Сторонние сервисы модель не привела. В следующем варианте подводки попросим ее это сделать (точнее, сделаем это через один вариант подводки. Пока что приводим возможные сторонние сервисы)."
      ],
      "metadata": {
        "id": "f5gbseYXrbac"
      },
      "id": "f5gbseYXrbac"
    },
    {
      "cell_type": "code",
      "execution_count": null,
      "id": "775f1c4c-69e5-4b70-8ecb-b83e5f13d5c0",
      "metadata": {
        "execution": {
          "iopub.execute_input": "2024-12-26T19:27:47.294121Z",
          "iopub.status.busy": "2024-12-26T19:27:47.292857Z",
          "iopub.status.idle": "2024-12-26T19:27:50.935744Z",
          "shell.execute_reply": "2024-12-26T19:27:50.934956Z",
          "shell.execute_reply.started": "2024-12-26T19:27:47.294077Z"
        },
        "id": "775f1c4c-69e5-4b70-8ecb-b83e5f13d5c0",
        "outputId": "4a8d2dab-ec2e-423b-9185-b153e97ec0e8"
      },
      "outputs": [
        {
          "name": "stdout",
          "output_type": "stream",
          "text": [
            "**Маршрут:**\n",
            "1. Москва — Санкт-Петербург на скоростном поезде «Сапсан».\n",
            "2. Время в пути составит примерно 3,5–4 часа.\n",
            "\n",
            "**План:**\n",
            "1. Выбрать и купить билеты на поезд на сайте РЖД или других сервисах (tutu.ru).\n",
            "2. Подготовиться к поездке: упаковать вещи, взять документы и необходимые предметы.\n",
            "3. Прибыть на вокзал за 30 минут до отправления поезда.\n",
            "4. Провести время в поезде: почитать книгу, послушать музыку или посмотреть фильм.\n",
            "5. По прибытии в Санкт-Петербург можно сразу отправиться по делам или отдохнуть после поездки.\n"
          ]
        }
      ],
      "source": [
        "second_prompt_v3 = '''Ты помощник по планированию путешествий. Твоя задача -- спланировать путешествие из точки A в точку B, выбрав оптимальный маршурут и расчитав ориентировочное время в пути, так же можешь добавить в план что-то свое.\n",
        "Путешествие планируется на самолете, поезде или автомобиле. Используй сторонние сервисы для более конкретного подсчета времени в пути. Так же добавь возможные остановки.\n",
        "Сторонние сервисы, которые можно использовать: rasp.yandex.ru, aviasales.ru, tutu.ru, travel.yandex.ru, rzd.ru, yandex.maps.ru.\n",
        "\n",
        "Маршрут будет написан после слова МАРШРУТ. Ты должна написать план для путешествия для данного маршрута после слова ПЛАН.'''\n",
        "text = \"МОСКВА - САНКТ-ПЕТЕРБУРГ\"\n",
        "\n",
        "request = make_request(second_prompt_v3, text)\n",
        "print(LLM(request))"
      ]
    },
    {
      "cell_type": "markdown",
      "source": [
        "Какой-то совсем невнятный ответ. Видимо надо указать, что нужно БРАТЬ информацию из сервисов, а не просто их указывать."
      ],
      "metadata": {
        "id": "a2OB-GcGsIXU"
      },
      "id": "a2OB-GcGsIXU"
    },
    {
      "cell_type": "code",
      "execution_count": null,
      "id": "8852b1f7-475c-46f1-a2ac-b5c2b039b948",
      "metadata": {
        "execution": {
          "iopub.execute_input": "2024-12-26T19:31:13.869541Z",
          "iopub.status.busy": "2024-12-26T19:31:13.868358Z",
          "iopub.status.idle": "2024-12-26T19:31:22.120708Z",
          "shell.execute_reply": "2024-12-26T19:31:22.119662Z",
          "shell.execute_reply.started": "2024-12-26T19:31:13.869497Z"
        },
        "tags": [],
        "id": "8852b1f7-475c-46f1-a2ac-b5c2b039b948",
        "outputId": "c4bb1e51-ec12-4791-b9c6-209cfe0fee8c"
      },
      "outputs": [
        {
          "name": "stdout",
          "output_type": "stream",
          "text": [
            "**Маршрут:** Москва — Санкт-Петербург.\n",
            "\n",
            "**Виды транспорта:** поезд, самолёт, автомобиль.\n",
            "\n",
            "1. **Самолёт.** Самый быстрый способ добраться из Москвы в Санкт-Петербург — это самолёт. Время в пути составит примерно 1 час 20 минут. Стоимость билетов зависит от даты вылета и авиакомпании. Для поиска и покупки билетов можно воспользоваться сервисом aviasales.ru.\n",
            "\n",
            "2. **Поезд.** Если вы предпочитаете путешествовать по железной дороге, то можно выбрать поезд. Время в пути на «Сапсане» составит около 4 часов. Билеты можно купить на сайте rzd.ru или в кассах железнодорожных вокзалов.\n",
            "\n",
            "3. **Автомобиль.** Путешествие на автомобиле может быть интересным и удобным, но оно также может занять больше времени. Расстояние между Москвой и Санкт-Петербургом составляет примерно 630 км. Время в пути без остановок может составить около 8–9 часов. В зависимости от дорожной ситуации и скорости движения время может варьироваться.\n",
            "\n",
            "Для расчёта ориентировочного времени в пути с учётом остановок можно использовать сервис Яндекс Карты (yandex.maps.ru).\n",
            "\n",
            "**План путешествия:**\n",
            "\n",
            "* Выберите наиболее удобный для вас вид транспорта: самолёт, поезд или автомобиль.\n",
            "* Если вы выбрали самолёт, забронируйте билеты на сервисе aviasales.ru заранее, чтобы получить лучшие цены.\n",
            "* Если вы путешествуете на поезде, купите билеты на сайте rzd.ru или в кассе железнодорожного вокзала.\n",
            "* При путешествии на автомобиле спланируйте маршрут с помощью сервиса Яндекс Карты, учитывая пробки и дорожные работы.\n",
            "* Независимо от выбранного вида транспорта, рассмотрите возможность остановки в промежуточных пунктах для отдыха и питания.\n",
            "* По прибытии в Санкт-Петербург наслаждайтесь красотами города и планируйте дальнейшие мероприятия.\n"
          ]
        }
      ],
      "source": [
        "second_prompt_v4 = '''Ты помощник по планированию путешествий. Твоя задача -- спланировать путешествие из точки A в точку B, выбрав оптимальный маршурут и расчитав ориентировочное время в пути, так же можешь добавить в план что-то свое.\n",
        "Путешествие планируется на самолете, поезде или автомобиле. Используй сторонние сервисы для более конкретного подсчета времени в пути. Так же добавь возможные остановки.\n",
        "Сторонние сервисы, которые можно использовать: rasp.yandex.ru, aviasales.ru, tutu.ru, travel.yandex.ru, rzd.ru, yandex.maps.ru.\n",
        "Сделай план развернутым, приводи ссылки на сервисы, когда ты берешь из них информацию.\n",
        "Маршрут будет написан после слова МАРШРУТ. Ты должна написать план для путешествия для данного маршрута после слова ПЛАН.'''\n",
        "text = \"МОСКВА - САНКТ-ПЕТЕРБУРГ\"\n",
        "\n",
        "request = make_request(second_prompt_v4, text)\n",
        "print(LLM(request))"
      ]
    },
    {
      "cell_type": "markdown",
      "source": [
        "Стало лучше чем в последнем ответе, но хуже, чем в ответах до него. Возможно, стоит напомнить, что еще нужно упомянуть в плане. Так же попросим модель порекомендовать достопримечательности в точке прибытия."
      ],
      "metadata": {
        "id": "2Z9QZfYqsbc_"
      },
      "id": "2Z9QZfYqsbc_"
    },
    {
      "cell_type": "code",
      "execution_count": null,
      "id": "ab0fd89e-bfb3-4735-957c-59524e6bd9ec",
      "metadata": {
        "execution": {
          "iopub.execute_input": "2024-12-26T19:33:01.517159Z",
          "iopub.status.busy": "2024-12-26T19:33:01.516543Z",
          "iopub.status.idle": "2024-12-26T19:33:08.811589Z",
          "shell.execute_reply": "2024-12-26T19:33:08.810642Z",
          "shell.execute_reply.started": "2024-12-26T19:33:01.517114Z"
        },
        "id": "ab0fd89e-bfb3-4735-957c-59524e6bd9ec",
        "outputId": "f1f8bbb2-3136-4501-dbf2-83f1fa8e8f71"
      },
      "outputs": [
        {
          "name": "stdout",
          "output_type": "stream",
          "text": [
            "**Маршрут:** Москва — Санкт-Петербург.\n",
            "\n",
            "**Вид транспорта:** поезд или автомобиль (на выбор).\n",
            "\n",
            "1. **Поезд.**\n",
            "\n",
            "    * **Время в пути:** около 4–8 часов, в зависимости от типа поезда и расписания.\n",
            "    * **Сторонний сервис для покупки билетов:** tutu.ru.\n",
            "    * **Возможные остановки:** по пути следования поезда могут быть остановки в других городах, например, Тверь или Бологое. Можно рассмотреть возможность остановки на несколько часов для отдыха или прогулки по городу.\n",
            "\n",
            "2. **Автомобиль.**\n",
            "\n",
            "   * **Расстояние:** примерно 635 км.\n",
            "   * **Ориентировочное время в пути без остановок:** 7–9 часов.\n",
            "   * **Сторонние сервисы для планирования маршрута:** Яндекс Карты (yandex.maps.ru), Яндекс Расписания (rasp.yandex.ru).\n",
            "   * **Возможные остановки:** можно сделать остановки для отдыха и перекуса на заправках или в кафе по пути. Также можно остановиться в Твери или Великом Новгороде для короткой прогулки и осмотра достопримечательностей.\n",
            "\n",
            "**План путешествия:**\n",
            "\n",
            "1. Выберите вид транспорта: поезд или автомобиль.\n",
            "2. Если вы выбрали поезд, купите билеты на сайте tutu.ru заранее, чтобы выбрать удобное место и сэкономить деньги.\n",
            "3. Если вы путешествуете на автомобиле, спланируйте маршрут с помощью Яндекс Карт, учитывая пробки и дорожные условия.\n",
            "4. По пути следования на поезде или автомобиле можно делать остановки для отдыха, перекуса или осмотра достопримечательностей в промежуточных городах.\n",
            "5. В Санкт-Петербурге можно посетить Эрмитаж, Русский музей, Петропавловскую крепость, Исаакиевский собор и другие известные достопримечательности.\n",
            "6. После окончания поездки можно отдохнуть и насладиться городом, попробовать местную кухню и прогуляться по набережным Невы.\n"
          ]
        }
      ],
      "source": [
        "second_prompt_v5 = '''Ты помощник по планированию путешествий. Твоя задача -- спланировать путешествие из точки A в точку B, выбрав оптимальный маршурут и расчитав ориентировочное время в пути, так же можешь добавить в план что-то свое.\n",
        "Путешествие планируется на самолете, поезде или автомобиле. Используй сторонние сервисы для более конкретного подсчета времени в пути. Так же добавь возможные остановки.\n",
        "Сторонние сервисы, которые можно использовать: rasp.yandex.ru, aviasales.ru, tutu.ru, travel.yandex.ru, rzd.ru, yandex.maps.ru.\n",
        "Сделай план развернутым, приводи ссылки на сервисы, когда ты берешь из них информацию.\n",
        "Не забудь про остановки и расстояние. Можешь указать, чем конкретно можно заняться в точке B.\n",
        "\n",
        "Маршрут будет написан после слова МАРШРУТ. Ты должна написать план для путешествия для данного маршрута после слова ПЛАН.'''\n",
        "text = \"МОСКВА - САНКТ-ПЕТЕРБУРГ\"\n",
        "\n",
        "request = make_request(second_prompt_v5, text)\n",
        "print(LLM(request))"
      ]
    },
    {
      "cell_type": "markdown",
      "source": [
        "Стало хорошо, но моментами не по делу. Исправим."
      ],
      "metadata": {
        "id": "_EttaV4ItRkD"
      },
      "id": "_EttaV4ItRkD"
    },
    {
      "cell_type": "code",
      "execution_count": null,
      "id": "66d17691-1db4-4d7e-9109-cb2704f94dad",
      "metadata": {
        "execution": {
          "iopub.execute_input": "2024-12-26T19:39:54.389400Z",
          "iopub.status.busy": "2024-12-26T19:39:54.388076Z",
          "iopub.status.idle": "2024-12-26T19:40:01.526208Z",
          "shell.execute_reply": "2024-12-26T19:40:01.525229Z",
          "shell.execute_reply.started": "2024-12-26T19:39:54.389351Z"
        },
        "tags": [],
        "id": "66d17691-1db4-4d7e-9109-cb2704f94dad",
        "outputId": "c78c7e7d-8081-414b-92fd-a94ad9681b6a"
      },
      "outputs": [
        {
          "name": "stdout",
          "output_type": "stream",
          "text": [
            "**Оптимальные виды транспорта:** поезд и автомобиль.\n",
            "\n",
            "**1. Поезд.**\n",
            "\n",
            "Время в пути: около 4–8 часов в зависимости от типа поезда и времени отправления.\n",
            "\n",
            "Преимущества: комфорт, возможность отдохнуть во время поездки, не нужно беспокоиться о парковке и пробках.\n",
            "\n",
            "Сервисы для покупки билетов: tutu.ru, rzd.ru.\n",
            "\n",
            "**2. Автомобиль.**\n",
            "\n",
            "Расстояние: примерно 630–700 км в зависимости от маршрута.\n",
            "\n",
            "Время в пути: 8–10 часов без остановок.\n",
            "\n",
            "Преимущества: гибкость маршрута, возможность остановиться по пути, чтобы отдохнуть или перекусить.\n",
            "\n",
            "Возможные остановки: Тверь, Новгород, Валдай.\n",
            "\n",
            "Сервис для планирования маршрута: yandex.maps.ru.\n",
            "\n",
            "В Санкт-Петербурге можно посетить Эрмитаж, Русский музей, Петропавловскую крепость, прогуляться по Невскому проспекту, насладиться белыми ночами.\n",
            "\n",
            "**МАРШРУТ:** Москва — Санкт-Петербург.\n",
            "\n",
            "**ПЛАН:**\n",
            "\n",
            "1. Выбрать подходящий поезд на сервисе tutu.ru или rzd.ru и купить билеты.\n",
            "2. Собрать вещи и подготовиться к поездке.\n",
            "3. Отправиться на вокзал и сесть на поезд.\n",
            "4. Во время поездки можно отдохнуть, почитать книгу или посмотреть фильм.\n",
            "5. По прибытии в Санкт-Петербург можно сразу отправиться в центр города или сначала заселиться в отель.\n",
            "6. Если выбран вариант с автомобилем, то необходимо заправить машину и проверить её техническое состояние перед поездкой.\n",
            "7. Выехать из Москвы по трассе М10 и следовать по ней до Санкт-Петербурга.\n",
            "8. Сделать остановки в Твери, Новгороде или Валдае для отдыха и перекуса.\n",
            "9. Прибыть в Санкт-Петербург и заселиться в отель или сразу отправиться на прогулку по городу.\n"
          ]
        }
      ],
      "source": [
        "second_prompt_v6 = '''Ты помощник по планированию путешествий. Твоя задача -- спланировать путешествие из точки A в точку B, выбрав оптимальный маршурут и расчитав ориентировочное время в пути, так же можешь добавить в план что-то свое.\n",
        "Путешествие планируется на самолете, поезде или автомобиле. Выбери два оптимальных вида транспорта и расскаажи про них. Используй сторонние сервисы для более конкретного подсчета времени в пути. Так же добавь возможные остановки.\n",
        "Сторонние сервисы, которые можно использовать: rasp.yandex.ru, aviasales.ru, tutu.ru, travel.yandex.ru, rzd.ru, yandex.maps.ru.\n",
        "Сделай план кратким и по делу, приводи ссылки на сервисы, когда ты берешь из них информацию.\n",
        "Не забудь про остановки и расстояние. Можешь указать, чем конкретно можно заняться в точке B.\n",
        "\n",
        "Маршрут будет написан после слова МАРШРУТ. Ты должна написать план для путешествия для данного маршрута после слова ПЛАН.'''\n",
        "text = \"МОСКВА - САНКТ-ПЕТЕРБУРГ\"\n",
        "\n",
        "request = make_request(second_prompt_v6, text)\n",
        "print(LLM(request))"
      ]
    },
    {
      "cell_type": "markdown",
      "source": [
        "Это ответ на финальный вариант подводки в зеро-шоте. В целом, он меня устраивает. Однако, во фью-шоте в примерах я не буду выписывать план, написанный моделью в конце ответа. Кажется, он выглядит громоздко и избыточно."
      ],
      "metadata": {
        "id": "mWzQ0ulMtaSh"
      },
      "id": "mWzQ0ulMtaSh"
    },
    {
      "cell_type": "markdown",
      "source": [
        "# few-shot + легкое модифицирование инструкции"
      ],
      "metadata": {
        "id": "hT03RJcuvtFZ"
      },
      "id": "hT03RJcuvtFZ"
    },
    {
      "cell_type": "code",
      "execution_count": null,
      "id": "ceb1cf17-0291-4852-965b-a28afe99b17c",
      "metadata": {
        "execution": {
          "iopub.execute_input": "2024-12-26T20:05:18.056797Z",
          "iopub.status.busy": "2024-12-26T20:05:18.055464Z",
          "iopub.status.idle": "2024-12-26T20:05:23.315756Z",
          "shell.execute_reply": "2024-12-26T20:05:23.314837Z",
          "shell.execute_reply.started": "2024-12-26T20:05:18.056754Z"
        },
        "tags": [],
        "id": "ceb1cf17-0291-4852-965b-a28afe99b17c",
        "outputId": "8240b4ae-707c-4ad2-b5e1-075599084062"
      },
      "outputs": [
        {
          "name": "stdout",
          "output_type": "stream",
          "text": [
            "**Маршрут: Москва — Санкт-Петербург**\n",
            "\n",
            "1. Поезд\n",
            "Маршрут: Москва — Санкт-Петербург\n",
            "Время в пути: 3,5–5 часов (в зависимости от типа поезда и количества остановок)\n",
            "\n",
            "2. Автомобиль\n",
            "Маршрут: Москва — Тверь — Великий Новгород — Санкт-Петербург (для более длительного путешествия)\n",
            "Время в пути: ~10–12 часов\n",
            "Остановки:\n",
            "* Тверь: Императорский путевой дворец, прогулка по городу.\n",
            "* Великий Новгород: Новгородский кремль, Ярославово дворище.\n",
            "\n",
            "Рекомендации:\n",
            "* Поезд: проверьте расписание и цены на rzd.ru.\n",
            "* Автомобиль: используйте Яндекс.Карты или Google Maps для навигации.\n",
            "\n",
            "Чем заняться в Санкт-Петербурге:\n",
            "* Эрмитаж: один из крупнейших музеев мира.\n",
            "* Петропавловская крепость: исторический центр города.\n",
            "* Невский проспект: прогулки, магазины, кафе.\n",
            "* Белые ночи: наблюдение за уникальным природным явлением.\n",
            "* Мариинский театр: посещение спектаклей.\n",
            "* Летний сад: отдых на природе.\n"
          ]
        }
      ],
      "source": [
        "def make_request(prompt, text, samples=None):\n",
        "    samples = samples or []\n",
        "    answer = prompt\n",
        "    for sample in samples:\n",
        "        answer += \"\\n\\nМАРШРУТ: {source}\\nПЛАН: {target}\".format(**sample)\n",
        "    answer += f\"\\n\\nМАРШРУТ: {text}\"\n",
        "    return answer\n",
        "\n",
        "samples = [\n",
        "    {\n",
        "        \"source\": \"РЯЗАНЬ - КАЗАНЬ\",\n",
        "        \"target\": '''Краткий план путешествия из Рязани в Казань\n",
        "\n",
        "1. Автомобиль\n",
        "Маршрут: Рязань - Владимир - Нижний Новгород - Казань\n",
        "Время в пути: ~12-14 часов\n",
        "Остановки:\n",
        "- Владимир: Успенский собор, Золотые ворота.\n",
        "- Нижний Новгород: Большая Покровская улица, Кремль.\n",
        "\n",
        "2. Поезд\n",
        "Маршрут: Рязань - Москва - Казань\n",
        "Время в пути: ~10-12 часов\n",
        "Остановки:\n",
        "- Москва: Красная площадь, музеи, парки.\n",
        "\n",
        "Рекомендации\n",
        "- Автомобиль: Используйте Яндекс.Карты или Google Maps.\n",
        "- Поезд: Проверьте расписание и цены на rzd.ru.\n",
        "\n",
        "Чем заняться в Казани\n",
        "- Казанский Кремль: мечеть Кул-Шариф, Благовещенский собор.\n",
        "- Улица Баумана: прогулки, магазины, кафе.\n",
        "- Озеро Кабан: отдых на природе.\n",
        "- Национальный музей Республики Татарстан: история и культура региона.\n",
        "- Аквапарк \"Ривьера\": развлечения для всей семьи.\n",
        "- Старо-Татарская слобода: исторический район с музеями.'''\n",
        "    },\n",
        "    {\n",
        "        \"source\": \"САМАРА - ТЮМЕНЬ\",\n",
        "        \"target\": '''Краткий план путешествия из Самары в Тюмень\n",
        "1. Автомобиль\n",
        "Маршрут: Самара - Уфа - Челябинск - Тюмень\n",
        "Время в пути: ~18-20 часов\n",
        "Остановки:\n",
        "- Уфа: посещение Монумента Дружбы, прогулка по городу.\n",
        "- Челябинск: парк Гагарина, краеведческий музей.\n",
        "\n",
        "2. Поезд\n",
        "Маршрут: Самара - Екатеринбург - Тюмень\n",
        "Время в пути: ~14-16 часов\n",
        "Остановки:\n",
        "- Екатеринбург: плотина Городского пруда, Храм-на-Крови, музеи.\n",
        "\n",
        "Рекомендации\n",
        "- Автомобиль: Используйте Яндекс.Карты или Google Maps.\n",
        "- Поезд: Проверьте расписание и цены на rzd.ru.\n",
        "\n",
        "Чем заняться в Тюмени\n",
        "- Набережная реки Тура: прогулки, виды на город.\n",
        "- Исторический парк \"Россия — Моя история\": экспозиции об истории России.\n",
        "- Троицкий монастырь: духовная и историческая достопримечательность.\n",
        "- термальные источники: расслабление и отдых.\n",
        "- Сквер Сибирских Кошек: уютное место для отдыха.'''\n",
        "    },\n",
        "    {\n",
        "        \"source\": \"БАРНАУЛ - БЕЛОКУРИХА\",\n",
        "        \"target\": '''Краткий план путешествия из Барнаула в Белокуриху\n",
        "1. Автомобиль\n",
        "Маршрут: Барнаул - Бийск - Белокуриха\n",
        "Время в пути: ~3-4 часа\n",
        "Остановки:\n",
        "- Бийск: посещение Успенского кафедрального собора, краеведческого музея.\n",
        "\n",
        "2. Автобус\n",
        "Маршрут: Барнаул - Белокуриха\n",
        "Время в пути: ~4-5 часов\n",
        "Остановки:\n",
        "- По пути можно наслаждаться живописными видами Алтайского края.\n",
        "\n",
        "Рекомендации\n",
        "- Автомобиль: Используйте Яндекс.Карты или Google Maps для навигации.\n",
        "- Автобус: Проверьте расписание на автовокзале Барнаула или онлайн.\n",
        "\n",
        "Чем заняться в Белокурихе\n",
        "- Прогулки по курортной зоне: чистый воздух и красивые пейзажи.\n",
        "- Санатории и спа: лечение и отдых в одном из многочисленных санаториев.\n",
        "- Гора Церковка: подъем на гору с панорамными видами.\n",
        "- Минеральные источники: питьевое лечение и купание.\n",
        "- Аквапарк Беловодье: развлечения для всей семьи.\n",
        "- Музей истории курорта: узнайте больше о развитии региона.\n",
        "'''\n",
        "    }\n",
        "]\n",
        "text = \"МОСКВА - САНКТ-ПЕТЕРБУРГ\"\n",
        "\n",
        "request = make_request(second_prompt_v6, text, samples)\n",
        "print(LLM(request))"
      ]
    },
    {
      "cell_type": "markdown",
      "source": [
        "Здесь мы дали три примера плана путешествия модели. Она успешно справилась с задачей после предоставления их нами. В качестве \"вишенки на торте\" попросим добавить в ответ интересный факт или немного \"отсебятины\"."
      ],
      "metadata": {
        "id": "hygAozMhuWYD"
      },
      "id": "hygAozMhuWYD"
    },
    {
      "cell_type": "code",
      "execution_count": null,
      "id": "ef53770c-d1d5-40c1-bcb9-4665dc708203",
      "metadata": {
        "execution": {
          "iopub.execute_input": "2024-12-26T20:14:47.584369Z",
          "iopub.status.busy": "2024-12-26T20:14:47.583250Z",
          "iopub.status.idle": "2024-12-26T20:14:52.775627Z",
          "shell.execute_reply": "2024-12-26T20:14:52.774596Z",
          "shell.execute_reply.started": "2024-12-26T20:14:47.584327Z"
        },
        "tags": [],
        "id": "ef53770c-d1d5-40c1-bcb9-4665dc708203",
        "outputId": "7d440316-df2a-4341-9cdd-376ab0c4fb71"
      },
      "outputs": [
        {
          "name": "stdout",
          "output_type": "stream",
          "text": [
            "**МАРШРУТ: Москва — Санкт-Петербург**\n",
            "\n",
            "**ПЛАН:**\n",
            "1. Поезд\n",
            "Маршрут: Москва — Санкт-Петербург\n",
            "Время в пути: ~8 часов\n",
            "\n",
            "Рекомендации:\n",
            "* Проверьте расписание и цены на rzd.ru.\n",
            "\n",
            "Чем заняться в Санкт-Петербурге:\n",
            "* Прогуляться по Невскому проспекту.\n",
            "* Посетить Эрмитаж, Русский музей, Кунсткамеру.\n",
            "* Сходить в Мариинский театр или Александринский театр.\n",
            "* Полюбоваться разводными мостами.\n",
            "* Попробовать пышки и корюшку.\n",
            "\n",
            "2. Автомобиль\n",
            "Маршрут: Москва — Тверь — Великий Новгород — Санкт-Петербург\n",
            "Время в пути: ~10–12 часов\n",
            "Остановки:\n",
            "* Тверь: Императорский путевой дворец, прогулка по городу.\n",
            "* Великий Новгород: Новгородский кремль, Ярославово дворище.\n",
            "\n",
            "Рекомендации:\n",
            "* Используйте Яндекс.Карты или Google Maps для навигации.\n",
            "\n",
            "Интересный факт: между Москвой и Санкт-Петербургом находится множество городов Золотого кольца России, которые можно посетить по пути. Это позволит сделать путешествие более разнообразным и интересным.\n"
          ]
        }
      ],
      "source": [
        "third_prompt = '''Ты помощник по планированию путешествий. Твоя задача -- спланировать путешествие из точки A в точку B, выбрав оптимальный маршурут и расчитав ориентировочное время в пути, так же можешь добавить в план что-то свое.\n",
        "Путешествие планируется на самолете, поезде или автомобиле. Выбери два оптимальных вида транспорта и расскаажи про них. Используй сторонние сервисы для более конкретного подсчета времени в пути. Так же добавь возможные остановки.\n",
        "Сторонние сервисы, которые можно использовать: rasp.yandex.ru, aviasales.ru, tutu.ru, travel.yandex.ru, rzd.ru, yandex.maps.ru.\n",
        "Сделай план кратким и по делу, приводи ссылки на сервисы, когда ты берешь из них информацию.\n",
        "Не забудь про остановки и расстояние. Можешь указать, чем конкретно можно заняться в точке B.\n",
        "ОБЯЗАТЕЛЬНО добавь что-то свое: интересный факт о точке B или A, пожелание путешественнику или что-то на свой вкус.\n",
        "\n",
        "Маршрут будет написан после слова МАРШРУТ. Ты должна написать план для путешествия для данного маршрута после слова ПЛАН.'''\n",
        "text = \"МОСКВА - САНКТ-ПЕТЕРБУРГ\"\n",
        "\n",
        "request = make_request(third_prompt, text, samples)\n",
        "print(LLM(request))"
      ]
    },
    {
      "cell_type": "markdown",
      "source": [
        "В итоге мы получили вот такой ответ. Кажется, достаточно приемлемый. Полезно, пошагово и по делу."
      ],
      "metadata": {
        "id": "6xyO5qNRu9Sa"
      },
      "id": "6xyO5qNRu9Sa"
    }
  ],
  "metadata": {
    "kernelspec": {
      "display_name": "DataSphere Kernel",
      "language": "python",
      "name": "python3"
    },
    "language_info": {
      "codemirror_mode": {
        "name": "ipython",
        "version": 3
      },
      "file_extension": ".py",
      "mimetype": "text/x-python",
      "name": "python",
      "nbconvert_exporter": "python",
      "pygments_lexer": "ipython3",
      "version": "3.10.12"
    },
    "colab": {
      "provenance": []
    }
  },
  "nbformat": 4,
  "nbformat_minor": 5
}